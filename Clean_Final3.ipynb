{
 "cells": [
  {
   "cell_type": "code",
   "execution_count": null,
   "metadata": {},
   "outputs": [],
   "source": [
    "#Team 4 Final Submission File \n",
    "import matplotlib.pyplot as plt\n",
    "import pandas as pd\n",
    "import scipy.stats as st\n",
    "from scipy.stats import linregress\n",
    "from scipy.stats import sem\n",
    "import numpy as np\n",
    "import hvplot.pandas\n",
    "from pathlib import Path"
   ]
  },
  {
   "cell_type": "code",
   "execution_count": null,
   "metadata": {},
   "outputs": [],
   "source": [
    "# Assign data files\n",
    "events = \"athlete_events.csv\"\n",
    "region = \"noc_regions.csv\"\n",
    "# Read the data\n",
    "events_data = pd.read_csv(events)\n",
    "region_data = pd.read_csv(region)\n",
    "#events_data.head()\n",
    "#region_data.head()\n",
    "#Combine the data into a single DataFrame\n",
    "Olympics_df = pd.merge(events_data,region_data, how =\"left\", on ='NOC')\n",
    "Olympics_df.head()"
   ]
  },
  {
   "cell_type": "code",
   "execution_count": null,
   "metadata": {
    "scrolled": false
   },
   "outputs": [],
   "source": [
    "olympics_fdf = Olympics_df[['ID', 'Name', 'Sex', 'Age','Height','Weight','Team','Games','Year','Season','City','Sport','Medal','region']]\n",
    "olympics_fdf"
   ]
  },
  {
   "cell_type": "code",
   "execution_count": null,
   "metadata": {
    "scrolled": false
   },
   "outputs": [],
   "source": [
    "olympics_region=olympics_fdf.loc[olympics_fdf[\"Medal\"]==\"Gold\"]\n",
    "olympics_region=olympics_region.loc[olympics_fdf[\"Medal\"]!=\"NaN\"]\n",
    "olympics_region2=olympics_region.groupby(\"region\")\n",
    "olympics_region2.head()"
   ]
  },
  {
   "cell_type": "code",
   "execution_count": null,
   "metadata": {
    "scrolled": false
   },
   "outputs": [],
   "source": [
    "olympics_age=olympics_fdf[olympics_fdf[\"Age\"] !='N/A']\n",
    "olympics_age.head()\n"
   ]
  },
  {
   "cell_type": "code",
   "execution_count": null,
   "metadata": {},
   "outputs": [],
   "source": [
    "olympics_fdf_cleaned = olympics_fdf.dropna(subset=['Age'])"
   ]
  },
  {
   "cell_type": "code",
   "execution_count": null,
   "metadata": {},
   "outputs": [],
   "source": [
    "# Aleksey - Start: Fill missing Age values with the mean age using .loc\n",
    "mean_age = olympics_fdf['Age'].mean()\n",
    "olympics_fdf.loc[olympics_fdf['Age'].isna(), 'Age'] = mean_age\n",
    "\n",
    "# Continue with the rest of the code for creating pie charts using olympics_fdf"
   ]
  },
  {
   "cell_type": "code",
   "execution_count": null,
   "metadata": {},
   "outputs": [],
   "source": [
    "# Filter the data for summer and winter seasons\n",
    "summer_data = olympics_fdf[olympics_fdf['Season'] == 'Summer'].copy()\n",
    "winter_data = olympics_fdf[olympics_fdf['Season'] == 'Winter'].copy()\n",
    "\n",
    "# Create age bins\n",
    "age_bins = [15, 25, 31, 41, 80]  \n",
    "age_labels = ['15-24', '25-30', '31-40', '41-80',]\n",
    "\n",
    "# Apply the age bins  \n",
    "summer_data.loc[:, 'Age Group'] = pd.cut(summer_data['Age'], bins=age_bins, labels=age_labels)\n",
    "winter_data.loc[:, 'Age Group'] = pd.cut(winter_data['Age'], bins=age_bins, labels=age_labels)\n",
    "\n",
    "summer_age_counts = summer_data['Age Group'].value_counts()\n",
    "winter_age_counts = winter_data['Age Group'].value_counts()\n",
    "\n",
    "# Plot pie charts\n",
    "fig, (ax1, ax2) = plt.subplots(1, 2, figsize=(12, 6))\n",
    "\n",
    "ax1.pie(summer_age_counts, labels=summer_age_counts.index, autopct='%1.0f%%', startangle=90)\n",
    "ax1.set_title('Summer Olympics - Age Distribution')\n",
    "\n",
    "ax2.pie(winter_age_counts, labels=winter_age_counts.index, autopct='%1.0f%%', startangle=90)\n",
    "ax2.set_title('Winter Olympics - Age Distribution')\n",
    "\n",
    "plt.tight_layout()\n",
    "plt.show()"
   ]
  },
  {
   "cell_type": "code",
   "execution_count": null,
   "metadata": {},
   "outputs": [],
   "source": [
    "#grouped"
   ]
  },
  {
   "cell_type": "code",
   "execution_count": null,
   "metadata": {},
   "outputs": [],
   "source": [
    "# Filter data for gold medalists\n",
    "gold_medals = olympics_fdf[olympics_fdf['Medal'] == 'Gold'].copy()\n",
    "\n",
    "# Create a 'Decade' column without modifying the original DataFrame\n",
    "gold_medals['Decade'] = (gold_medals['Year'] // 10) * 10\n",
    "\n",
    "# Group data by country and decade\n",
    "grouped = gold_medals.groupby(['Decade', 'region'])['Medal'].count().reset_index()\n",
    "\n",
    "# Pivot the data to get countries as columns\n",
    "pivot_df = grouped.pivot(index='Decade', columns='region', values='Medal')\n",
    "\n",
    "# Get the top five countries for each decade\n",
    "top_countries = pivot_df.idxmax(axis=1).value_counts().head(5).index\n",
    "\n",
    "# Filter data for the top five countries\n",
    "top_countries_data = pivot_df[top_countries]\n",
    "\n",
    "\n",
    "\n",
    "# Plot line graph\n",
    "plt.figure(figsize=(12, 8))\n",
    "top_countries_data.plot(kind='line', marker='o')\n",
    "\n",
    "plt.title('Top 5 Countries Winning Gold Medals Over Decades')\n",
    "plt.xlabel('Decade')\n",
    "plt.ylabel('Number of Gold Medals')\n",
    "plt.legend(title='Country', loc='upper left')\n",
    "\n",
    "plt.grid(True)\n",
    "plt.show()\n",
    "\n",
    "plt.savefig(\"data/top_countries_data.png\")"
   ]
  },
  {
   "cell_type": "code",
   "execution_count": null,
   "metadata": {},
   "outputs": [],
   "source": [
    "# Anusha Start -change age to int and set age of null records to 0 value for calculation\n",
    "olympics_age['Age'] =olympics_age['Age'].fillna(0)\n",
    "#olympics_age.Medal=olympics_age.fillna('None')\n",
    "olympics_age.Age=olympics_age.Age.astype(int)"
   ]
  },
  {
   "cell_type": "code",
   "execution_count": null,
   "metadata": {},
   "outputs": [],
   "source": [
    "na_values=olympics_age.isna()\n",
    "na_columns=na_values.any()\n",
    "coulums_with_na= olympics_age.columns[na_columns].tolist()\n",
    "print(coulums_with_na)"
   ]
  },
  {
   "cell_type": "code",
   "execution_count": null,
   "metadata": {},
   "outputs": [],
   "source": [
    "olympics_age.Medal =olympics_age.Medal.fillna('No Medal')"
   ]
  },
  {
   "cell_type": "code",
   "execution_count": null,
   "metadata": {},
   "outputs": [],
   "source": [
    "#List events with higest medal \n",
    "High_sport=olympics_age.Sport.value_counts().sort_values(ascending=False).head(5)\n",
    "High_sport"
   ]
  },
  {
   "cell_type": "code",
   "execution_count": null,
   "metadata": {},
   "outputs": [],
   "source": [
    "Popular_Sport=olympics_age.Sport.value_counts().sort_values(ascending=False).head(1)\n",
    "Popular_Sport"
   ]
  },
  {
   "cell_type": "code",
   "execution_count": null,
   "metadata": {},
   "outputs": [],
   "source": [
    "##List events with Least medal \n",
    "Low_sport=olympics_age.Sport.value_counts().sort_values(ascending=True).head(5)\n",
    "Low_sport"
   ]
  },
  {
   "cell_type": "code",
   "execution_count": null,
   "metadata": {},
   "outputs": [],
   "source": [
    "Uncommon_Sport=olympics_age.Sport.value_counts().sort_values(ascending=True).head(1)\n",
    "Uncommon_Sport"
   ]
  },
  {
   "cell_type": "code",
   "execution_count": null,
   "metadata": {},
   "outputs": [],
   "source": [
    "plt.plot(Low_sport)\n",
    "plt.xlabel('Sport')\n",
    "plt.ylabel('# of Participants')\n",
    "plt.title(' Sport with Low Participation in Olyimpics')\n",
    "plt.show\n",
    "plt.savefig(\"Low_Participation.png\")"
   ]
  },
  {
   "cell_type": "code",
   "execution_count": null,
   "metadata": {},
   "outputs": [],
   "source": [
    "plt.plot(High_sport)\n",
    "plt.xlabel('Sport')\n",
    "plt.ylabel('# of Participants')\n",
    "plt.title(' Sport with Highest Participation in Olyimpics')\n",
    "plt.show\n",
    "plt.savefig(\"High_Participation.png\")"
   ]
  },
  {
   "cell_type": "code",
   "execution_count": null,
   "metadata": {},
   "outputs": [],
   "source": [
    "#Total sport \n",
    "olympics_sport=olympics_age.groupby('Sport')\n",
    "olympics_sport_count=len(olympics_sport)\n",
    "olympics_sport_count"
   ]
  },
  {
   "cell_type": "code",
   "execution_count": null,
   "metadata": {},
   "outputs": [],
   "source": [
    "olympics_sport_year=olympics_age.groupby('Year')\n",
    "olympics_sport_year_count=len(olympics_sport_year)\n",
    "olympics_sport_year_count"
   ]
  },
  {
   "cell_type": "code",
   "execution_count": null,
   "metadata": {},
   "outputs": [],
   "source": [
    "winter_olympic = olympics_age[olympics_age.Season=='Winter']\n",
    "winter_sports = len(winter_olympic[['Sport']].drop_duplicates())\n",
    "print(f'Number of Sports Played In Winter Olympics: {winter_sports}')\n",
    "winter_olympic"
   ]
  },
  {
   "cell_type": "code",
   "execution_count": null,
   "metadata": {},
   "outputs": [],
   "source": [
    "Summer_olympic = olympics_age[olympics_age.Season=='Summer']\n",
    "Summer_sports = len(Summer_olympic[['Sport']].drop_duplicates())\n",
    "print(f'Number of Sports Played In Summer Olympics: {Summer_sports}')\n",
    "Summer_olympic"
   ]
  },
  {
   "cell_type": "code",
   "execution_count": null,
   "metadata": {},
   "outputs": [],
   "source": [
    "agg_max=olympics_age.groupby('Sport').Age.agg(['max'])\n",
    "agg_min=olympics_age.groupby('Sport').Age.agg(['min'])\n",
    "agg_avg=olympics_age.groupby('Sport').Age.agg(['mean'])\n",
    "agg=olympics_age.groupby('Sport').Age.agg(['mean','max','min'])\n",
    "agg"
   ]
  },
  {
   "cell_type": "code",
   "execution_count": null,
   "metadata": {},
   "outputs": [],
   "source": [
    "Top_Sport=['Athletics','Gymnastics','Swimming','Shooting','Cycling']\n",
    "Bottom_Sport=['Aeronautics','Basque Pelota','Roque','Jeu De Paume','Racquets']\n",
    "data_top = olympics_age[olympics_age[\"Sport\"].isin(Top_Sport)]\n",
    "data_Bottom=olympics_age[olympics_age[\"Sport\"].isin(Bottom_Sport)]"
   ]
  },
  {
   "cell_type": "code",
   "execution_count": null,
   "metadata": {},
   "outputs": [],
   "source": [
    "top_sport=olympics_age['Sport'].value_counts().sort_values(ascending=False)[:1]\n",
    "bottom_sport=olympics_age['Sport'].value_counts().sort_values(ascending=True)[:1]\n",
    "olympics_age['Sport'].value_counts().sort_values(ascending=False)[:10].plot(kind='bar' ,title='Top 10 - Olympic Sports')\n",
    "plt.ylabel('# of Participants')\n",
    "plt.xlabel('Sport')\n",
    "plt.show()\n",
    "plt.savefig(\"Top_10_Sports.png\")"
   ]
  },
  {
   "cell_type": "code",
   "execution_count": null,
   "metadata": {},
   "outputs": [],
   "source": [
    "#Summary \n",
    "# replace 0 age group with Mean Age \n",
    "olympics_age1=olympics_age\n",
    "mean1_age = olympics_age['Age'].mean()\n",
    "olympics_age1.loc[olympics_age1['Age'].isna(), 'Age'] = mean1_age\n",
    "olympics_age1.loc[olympics_age1['Age']==0, 'Age'] = mean1_age\n",
    "max_age= olympics_age1['Age'].max()\n",
    "min_age= olympics_age1['Age'].min()\n",
    "Sport_mean = olympics_age1['Age'].mean()\n",
    "\n",
    "#Alternate method - Long Running -8 mins runtime - to replace 0 with mean\n",
    "#olympics_age1.replace(to_replace = 0, value = olympics_age1.mean(), inplace=True)"
   ]
  },
  {
   "cell_type": "code",
   "execution_count": null,
   "metadata": {},
   "outputs": [],
   "source": [
    "print(f\"------------------------------------------------------------\")\n",
    "print(f\"Dataset has data for {olympics_sport_year_count} Years \")\n",
    "print(f\"The Most Popular sport in the Olympics has {Popular_Sport[0]} Participants \")\n",
    "print(f\"The uncommon sport in the Olympics has {Uncommon_Sport[0]} Participant\")\n",
    "print(f\"Top Sports are {Top_Sport} \")\n",
    "print(f\"Most Uncommon Sports are {Bottom_Sport}\")\n",
    "print(f\"The Oldest Participant is of Age {max_age}\")\n",
    "print(f\"The Youngest Participant is of Age {min_age}\")\n",
    "print(f\"The Average Age of Participants is {Sport_mean}\")\n",
    "print(f'Number of Sports Played In Summer Olympics: {Summer_sports}')\n",
    "print(f'Number of Sports Played In Winter Olympics: {winter_sports}')\n",
    "print(f\"Total # of Olympic Sport is: {olympics_sport_count}\")\n",
    "    # print(f\"Values above {upper_bound} could be {drug} outliers.\")\n",
    "print(f\"------------------------------------------------------------\")"
   ]
  },
  {
   "cell_type": "code",
   "execution_count": null,
   "metadata": {},
   "outputs": [],
   "source": [
    "with open(\"Analysis_file\", \"w\") as outfile:   \n",
    " \n",
    "    outfile.write(\"Olympics Data Analayis of Sport and Age after replacing Null age with the Mean Age of participants\\n\")\n",
    "    outfile.write(f\"------------------------------------------------------------\\n\")\n",
    "    outfile.write(f\"Dataset analysed has data for {olympics_sport_year_count} Years\\n\")\n",
    "    outfile.write(f\"The Most Popular sport in the Olympics has {Popular_Sport[0]} Participants\\n\")\n",
    "    outfile.write(f\"The uncommon sport in the Olympics has {Uncommon_Sport[0]} Participant\\n\")\n",
    "    outfile.write(f\"Top Sports are {Top_Sport}\\n\")\n",
    "    outfile.write(f\"Most Uncommon Sports are {Bottom_Sport}\\n\")\n",
    "    outfile.write(f\"The Oldest Participant is of Age {max_age}\\n\")\n",
    "    outfile.write(f\"The Youngest Participant is of Age {min_age}\\n\")\n",
    "    outfile.write(f\"The Average Age of Participants is {Sport_mean}\\n\")\n",
    "    outfile.write(f\"Number of Sports Played In Summer Olympics: {Summer_sports}\\n\")\n",
    "    outfile.write(f\"Number of Sports Played In Winter Olympics: {winter_sports}\\n\")\n",
    "    outfile.write(f\"Total # of Olympic Sport is: {olympics_sport_count}\\n\")\n",
    "    outfile.write(f\"------------------------------------------------------------\\n\")"
   ]
  },
  {
   "cell_type": "code",
   "execution_count": null,
   "metadata": {},
   "outputs": [],
   "source": [
    "# Chris Start\n",
    "olympics_data = pd.read_csv('athlete_events.csv')\n",
    "olympics_data.head()"
   ]
  },
  {
   "cell_type": "code",
   "execution_count": null,
   "metadata": {},
   "outputs": [],
   "source": [
    "olympics_data.dropna(subset=['Age', 'Weight'], inplace=True)\n",
    "olympics_data.head()"
   ]
  },
  {
   "cell_type": "code",
   "execution_count": null,
   "metadata": {},
   "outputs": [],
   "source": [
    "olympics_data.dropna(subset=['Medal'], inplace=True)\n",
    "olympics_data.head()"
   ]
  },
  {
   "cell_type": "code",
   "execution_count": null,
   "metadata": {},
   "outputs": [],
   "source": [
    "# Count how many loss incidents occurred in each city\n",
    "grouped_age = olympics_data.groupby([\"Age\"])\n",
    "grouped_age.count()"
   ]
  },
  {
   "cell_type": "code",
   "execution_count": null,
   "metadata": {},
   "outputs": [],
   "source": [
    "age_by_medal = grouped_age[\"Medal\"].count()\n",
    "\n",
    "# Convert the city_counts Series into a DataFrame\n",
    "fixed_medals = pd.DataFrame(age_by_medal)\n",
    "fixed_medals.head(55)"
   ]
  },
  {
   "cell_type": "code",
   "execution_count": null,
   "metadata": {},
   "outputs": [],
   "source": [
    "plt.title(\"Medal Count By Age\")\n",
    "plt.xlabel(\"Age\")\n",
    "plt.ylabel(\"Medal Count\")\n",
    "plt.plot(fixed_medals, color='gold')\n",
    "plt.title(\"Medal Count By Age\")"
   ]
  },
  {
   "cell_type": "code",
   "execution_count": null,
   "metadata": {},
   "outputs": [],
   "source": [
    "# Build scatter plot for Age vs. Weight\n",
    "\n",
    "age_scatter = olympics_data['Age']\n",
    "print(age_scatter)\n",
    "weight_scatter = olympics_data['Weight']\n",
    "print(weight_scatter)\n",
    "\n",
    "plt.scatter(age_scatter, weight_scatter, marker=\"o\", facecolors=\"blue\", edgecolors=\"black\",\n",
    "             alpha=0.85)\n",
    "\n",
    "# Incorporate the other graph properties\n",
    "plt.ylabel('Weight (in kilograms)')\n",
    "plt.xlabel('Age (in years)')\n",
    "plt.title(\"Age vs. Weight\")\n",
    "\n",
    "\n",
    "plt.show()"
   ]
  },
  {
   "cell_type": "code",
   "execution_count": null,
   "metadata": {},
   "outputs": [],
   "source": [
    "# Define a function to create Linear Regression plots\n",
    "(slope, intercept, rvalue, pvalue, stderr) = linregress(age_scatter, weight_scatter)\n",
    "regress_values = age_scatter * slope + intercept\n",
    "line_eq = \"y = \" + str(round(slope,2)) + \"x + \" + str(round(intercept,2))\n",
    "print(line_eq)\n",
    "\n",
    "plt.scatter(age_scatter,weight_scatter, marker=\"o\", facecolors=\"blue\", edgecolors=\"black\",\n",
    "             alpha=0.85 )\n",
    "plt.plot(age_scatter,regress_values,\"-r\")\n",
    "plt.ylabel('Weight (in kilograms)')\n",
    "plt.xlabel('Age (in years)')\n",
    "plt.title(\"Age vs. Weight\")\n",
    "plt.show()"
   ]
  },
  {
   "cell_type": "code",
   "execution_count": null,
   "metadata": {},
   "outputs": [],
   "source": [
    "olympics_data.dropna(subset=['Medal'], inplace=True)\n",
    "olympics_data.head()"
   ]
  },
  {
   "cell_type": "code",
   "execution_count": null,
   "metadata": {},
   "outputs": [],
   "source": [
    "#collect only Gold medals\n",
    "gold_olympics_data = olympics_data.loc[(olympics_data[\"Medal\"] == \"Gold\")]\n",
    "gold_olympics_data.head()"
   ]
  },
  {
   "cell_type": "code",
   "execution_count": null,
   "metadata": {},
   "outputs": [],
   "source": [
    "# Build scatter plot for Age vs. Weight\n",
    "\n",
    "age_scatter = gold_olympics_data['Age']\n",
    "print(age_scatter)\n",
    "weight_scatter = gold_olympics_data['Weight']\n",
    "print(weight_scatter)\n",
    "\n",
    "plt.scatter(age_scatter, weight_scatter, marker=\"o\", facecolors=\"gold\", edgecolors=\"black\",\n",
    "             alpha=0.85)\n",
    "\n",
    "# Incorporate the other graph properties\n",
    "plt.ylabel('Weight (in kilograms)')\n",
    "plt.xlabel('Age (in years)')\n",
    "plt.title(\"Age vs. Weight\")\n",
    "\n",
    "\n",
    "plt.show()"
   ]
  },
  {
   "cell_type": "code",
   "execution_count": null,
   "metadata": {},
   "outputs": [],
   "source": [
    "olympics_data.dropna(subset=['Medal'], inplace=True)\n",
    "olympics_data.head()"
   ]
  },
  {
   "cell_type": "code",
   "execution_count": null,
   "metadata": {},
   "outputs": [],
   "source": [
    "olympics_data.isnull().sum()"
   ]
  },
  {
   "cell_type": "code",
   "execution_count": null,
   "metadata": {},
   "outputs": [],
   "source": [
    "#Allison Start\n",
    "olympic_load = Path(\"olympic_merged.csv\")\n",
    "\n",
    "# Read School and Student Data File and store into Pandas DataFrames\n",
    "olympic_merged = pd.read_csv(olympic_load )"
   ]
  },
  {
   "cell_type": "code",
   "execution_count": null,
   "metadata": {},
   "outputs": [],
   "source": [
    "olympic_merged_ap=olympic_merged.fillna(\"NA\")\n",
    "olympic_merged_ap=olympic_merged.loc[olympic_merged[\"Medal\"]!=\"NA\",:]\n",
    "olympic_merged_ap=olympic_merged.loc[olympic_merged[\"Age\"]!=\"NA\",:]\n",
    "\n",
    "olympic_merged_m=olympic_merged.loc[olympic_merged[\"Sex\"]!=\"M\",:]\n",
    "olympic_merged_m_list=olympic_merged_m[[\"Age\",\"ID\"]].copy()\n",
    "olympic_m_age=olympic_merged_m_list.values.tolist()"
   ]
  },
  {
   "cell_type": "code",
   "execution_count": null,
   "metadata": {},
   "outputs": [],
   "source": [
    "olympic_merged_f=olympic_merged.loc[olympic_merged[\"Sex\"]!=\"F\",:]\n",
    "olympic_merged_f_list=olympic_merged_f[[\"Age\",\"ID\"]].copy()\n",
    "olympic_f_age=olympic_merged_f_list.values.tolist()"
   ]
  },
  {
   "cell_type": "code",
   "execution_count": null,
   "metadata": {},
   "outputs": [],
   "source": [
    "gender_chart=olympic_merged_ap[\"Sex\"].value_counts()\n",
    "plt.title(\"Olympian Medalers by Gender\")\n",
    "gender_chart.plot.pie(autopct= \"%1.1f%%\")\n",
    "plt.show()"
   ]
  },
  {
   "cell_type": "code",
   "execution_count": null,
   "metadata": {},
   "outputs": [],
   "source": [
    "age_bin=[15,24,30,40,80]\n",
    "labels = [\"15-24\", \"25-30\", \"31-40\", \"41-80\"]\n",
    "olympic_merged_ap2=olympic_merged_ap.copy()\n",
    "olympic_merged_ap2[\"Age by Decade\"]=pd.cut(olympic_merged_ap[\"Age\"],age_bin,labels=labels,include_lowest=True)\n",
    "olympic_merged_f=olympic_merged_ap2.loc[olympic_merged_ap[\"Sex\"]!=\"F\",:]\n",
    "olympic_merged_m=olympic_merged_ap2.loc[olympic_merged_ap[\"Sex\"]!=\"M\",:]"
   ]
  },
  {
   "cell_type": "code",
   "execution_count": null,
   "metadata": {
    "scrolled": true
   },
   "outputs": [],
   "source": [
    "age_m_chart=olympic_merged_m[\"Age by Decade\"].value_counts()\n",
    "plt.title(\"Male Medalers by Age Group\")\n",
    "age_m_chart.plot.pie(autopct= \"%1.1f%%\")\n",
    "plt.show()"
   ]
  },
  {
   "cell_type": "code",
   "execution_count": null,
   "metadata": {},
   "outputs": [],
   "source": [
    "age_f_chart=olympic_merged_f[\"Age by Decade\"].value_counts()\n",
    "plt.title(\"Female Medalers by Age Group\")\n",
    "age_f_chart.plot.pie(autopct= \"%1.1f%%\",figsize=(3,3))\n",
    "plt.show()"
   ]
  },
  {
   "cell_type": "code",
   "execution_count": null,
   "metadata": {},
   "outputs": [],
   "source": [
    "age_f_chart.plot.bar(x=\"Medal\",y=\"Age\")\n",
    "plt.show()"
   ]
  },
  {
   "cell_type": "code",
   "execution_count": null,
   "metadata": {
    "scrolled": false
   },
   "outputs": [],
   "source": [
    "# Clay Start - drop N/As Medal\n",
    "olympics_age.dropna(subset=['Medal'],inplace=True)\n",
    "olympics_age.head()"
   ]
  },
  {
   "cell_type": "code",
   "execution_count": null,
   "metadata": {
    "scrolled": false
   },
   "outputs": [],
   "source": [
    "# Groupby Region\n",
    "region=olympics_age.groupby('region').Age.mean().sort_values(ascending=True)\n",
    "region.head()"
   ]
  },
  {
   "cell_type": "code",
   "execution_count": null,
   "metadata": {
    "scrolled": true
   },
   "outputs": [],
   "source": [
    "# Check aggregates\n",
    "agg=olympics_age.groupby('region').Age.agg(['count','max','min','mean'])\n",
    "agg"
   ]
  },
  {
   "cell_type": "code",
   "execution_count": null,
   "metadata": {
    "scrolled": false
   },
   "outputs": [],
   "source": [
    "# Groupby region then medal count\n",
    "regiongold=olympics_fdf.groupby('region').Medal.count()\n",
    "regiongold"
   ]
  },
  {
   "cell_type": "code",
   "execution_count": null,
   "metadata": {
    "scrolled": false
   },
   "outputs": [],
   "source": [
    "# Create a box and whisker\n",
    "boxplot = olympics_age.hvplot.box(y='Age', by='Medal', c='gold', height=450, width=450, legend=False)\n",
    "boxplot"
   ]
  },
  {
   "cell_type": "code",
   "execution_count": null,
   "metadata": {},
   "outputs": [],
   "source": [
    "yearmax=olympics_age['Year'].min()\n",
    "yearmax"
   ]
  },
  {
   "cell_type": "code",
   "execution_count": null,
   "metadata": {
    "scrolled": true
   },
   "outputs": [],
   "source": [
    "US = (olympiclocations['region']=='Unites States')\n",
    "US"
   ]
  },
  {
   "cell_type": "code",
   "execution_count": null,
   "metadata": {},
   "outputs": [],
   "source": [
    "oscar=(olympics_age['Medal']=='Gold') & (olympics_age['Age']==64)\n",
    "oscargold = olympics_age[oscar]\n",
    "oscarchuck = oscargold[['Name','Age','Year','Sport','Medal','region']]\n",
    "oscarchuck"
   ]
  },
  {
   "cell_type": "code",
   "execution_count": null,
   "metadata": {
    "scrolled": true
   },
   "outputs": [],
   "source": [
    "youngest=(olympics_age['Medal']=='Bronze') & (olympics_age['Age']==10)\n",
    "youngestb = olympics_age[youngest]\n",
    "Dimitrios = youngestb[['Name','Age','Year','Sport','Medal','region']]\n",
    "Dimitrios"
   ]
  },
  {
   "cell_type": "code",
   "execution_count": null,
   "metadata": {
    "scrolled": true
   },
   "outputs": [],
   "source": [
    "# Import Lat & Long, Merge with DF\n",
    "olympicscoordinates = \"Lat_Long.csv\"\n",
    "df_loc = pd.read_csv(olympicscoordinates)\n",
    "olympiclocations = pd.merge(Olympics_df,df_loc, how =\"left\", on ='region')\n",
    "olympiclocations.head()\n"
   ]
  },
  {
   "cell_type": "code",
   "execution_count": null,
   "metadata": {
    "scrolled": false
   },
   "outputs": [],
   "source": [
    "# Drop NA in Age and Medal, check on country\n",
    "olympiclocations.dropna(subset=['Age','Medal'],inplace=True)\n",
    "olympics_map1 = olympiclocations[['Age','Medal','region','latitude','longitude']]\n",
    "nz=olympics_map1[olympics_map1[\"region\"] =='New Zealand']\n",
    "nz"
   ]
  },
  {
   "cell_type": "code",
   "execution_count": null,
   "metadata": {},
   "outputs": [],
   "source": [
    "# Remove any Zeroes\n",
    "nozeroes = olympics_map1.loc[(olympics_map1!=0).any(axis=1)]\n",
    "nozeroes"
   ]
  },
  {
   "cell_type": "code",
   "execution_count": null,
   "metadata": {},
   "outputs": [],
   "source": [
    "# Assign weights to medal type\n",
    "newolympics_mapdf=olympics_map1.copy()\n",
    "newolympics_mapdf['sizeMedal']=1\n",
    "newolympics_mapdf.loc[olympics_map1['Medal']==\"Gold\",\"sizeMedal\"]=10\n",
    "newolympics_mapdf.loc[olympics_map1['Medal']==\"Silver\",\"sizeMedal\"]=6\n",
    "newolympics_mapdf.loc[olympics_map1['Medal']==\"Bronze\",\"sizeMedal\"]=3\n",
    "newolympics_mapdf"
   ]
  },
  {
   "cell_type": "code",
   "execution_count": null,
   "metadata": {},
   "outputs": [],
   "source": [
    "# drop zeroes on medal weight\n",
    "newolympics_mapdf=newolympics_mapdf.loc[newolympics_mapdf[\"sizeMedal\"]>1]\n",
    "newolympics_mapdf"
   ]
  },
  {
   "cell_type": "code",
   "execution_count": null,
   "metadata": {},
   "outputs": [],
   "source": [
    "newdf = newolympics_mapdf.copy()\n",
    "newdf = newdf.replace(r'^\\s*$',float('NaN'),regex = True)\n",
    "newdf"
   ]
  },
  {
   "cell_type": "code",
   "execution_count": null,
   "metadata": {},
   "outputs": [],
   "source": [
    "df2 = newdf.copy()\n",
    "df2.dropna(inplace =True)\n",
    "df2"
   ]
  },
  {
   "cell_type": "code",
   "execution_count": null,
   "metadata": {},
   "outputs": [],
   "source": [
    "df3 = newdf.copy()\n",
    "df3.dropna(subset = ['Age'], inplace = True)\n",
    "df3"
   ]
  },
  {
   "cell_type": "code",
   "execution_count": null,
   "metadata": {},
   "outputs": [],
   "source": [
    "newolympics_mapdf['Medal']=newolympics_mapdf['Medal'].astype(str)"
   ]
  },
  {
   "cell_type": "code",
   "execution_count": null,
   "metadata": {
    "scrolled": true
   },
   "outputs": [],
   "source": [
    "newolympics_mapdf.dtypes"
   ]
  },
  {
   "cell_type": "code",
   "execution_count": null,
   "metadata": {
    "scrolled": true
   },
   "outputs": [],
   "source": [
    "check=olympics_map1.loc[olympics_map1['Age'] <= 0]\n",
    "olympics_map1.dtypes"
   ]
  },
  {
   "cell_type": "code",
   "execution_count": null,
   "metadata": {},
   "outputs": [],
   "source": [
    "newolympics_mapdf"
   ]
  },
  {
   "cell_type": "code",
   "execution_count": null,
   "metadata": {},
   "outputs": [],
   "source": [
    "import plotly.express as px"
   ]
  },
  {
   "cell_type": "code",
   "execution_count": null,
   "metadata": {},
   "outputs": [],
   "source": [
    "fig = px.scatter_mapbox(df3,\n",
    "                       lat = \"latitude\",\n",
    "                       lon = \"longitude\",\n",
    "                       color = 'Age',\n",
    "                       hover_name = 'region',\n",
    "                       size = 'sizeMedal',\n",
    "                       height=600,\n",
    "                       width=1300)\n",
    "fig.update_layout(mapbox_style='stamen-terrain')\n",
    "fig.update_layout(title_text='Participants by Age')\n",
    "fig.show()"
   ]
  },
  {
   "cell_type": "code",
   "execution_count": null,
   "metadata": {
    "scrolled": true
   },
   "outputs": [],
   "source": [
    "# Graph Olympic participants\n",
    "map_plot_1=olympics_map1.hvplot.points(\n",
    "    'longitude',\n",
    "    'latitude',\n",
    "    geo = True,\n",
    "    color = 'gold',\n",
    "    tiles = \"EsriImagery\",\n",
    "    scale = 0.5)\n",
    "map_plot_1"
   ]
  },
  {
   "cell_type": "code",
   "execution_count": null,
   "metadata": {
    "scrolled": true
   },
   "outputs": [],
   "source": [
    "# Find younges bronze age\n",
    "YoungestBronze=olympics_age.loc[olympics_age['Medal']=='Bronze'].Age.min()\n",
    "YoungestBronze1=olympics_age.loc[olympics_age['Name']==YoungestBronze]\n",
    "YoungestBronze1"
   ]
  },
  {
   "cell_type": "code",
   "execution_count": null,
   "metadata": {
    "scrolled": true
   },
   "outputs": [],
   "source": [
    "#olympics_age.to_csv('olympic_merged.csv')"
   ]
  },
  {
   "cell_type": "code",
   "execution_count": null,
   "metadata": {
    "scrolled": false
   },
   "outputs": [],
   "source": [
    "#Get the Gold Medal count by age\n",
    "just_gold = olympics_age.loc[olympics_age['Medal'] == \"Gold\"]\n",
    "just_gold.head()"
   ]
  },
  {
   "cell_type": "code",
   "execution_count": null,
   "metadata": {},
   "outputs": [],
   "source": []
  }
 ],
 "metadata": {
  "kernel_info": {
   "name": "python3"
  },
  "kernelspec": {
   "display_name": "Python 3 (ipykernel)",
   "language": "python",
   "name": "python3"
  },
  "language_info": {
   "codemirror_mode": {
    "name": "ipython",
    "version": 3
   },
   "file_extension": ".py",
   "mimetype": "text/x-python",
   "name": "python",
   "nbconvert_exporter": "python",
   "pygments_lexer": "ipython3",
   "version": "3.10.11"
  },
  "nteract": {
   "version": "0.2.0"
  }
 },
 "nbformat": 4,
 "nbformat_minor": 2
}
